{
  "nbformat": 4,
  "nbformat_minor": 0,
  "metadata": {
    "colab": {
      "provenance": []
    },
    "kernelspec": {
      "name": "python3",
      "display_name": "Python 3"
    },
    "language_info": {
      "name": "python"
    }
  },
  "cells": [
    {
      "cell_type": "code",
      "execution_count": null,
      "metadata": {
        "id": "Qtr6WMD98_hx"
      },
      "outputs": [],
      "source": [
        "import numpy as np\n",
        "import pandas as pd\n",
        "from sklearn.model_selection import train_test_split\n",
        "from sklearn.preprocessing import StandardScaler\n",
        "from sklearn import svm\n",
        "from sklearn.metrics import accuracy_score\n",
        "from imblearn.over_sampling import RandomOverSampler\n",
        "from imblearn.under_sampling import TomekLinks\n",
        "from imblearn.under_sampling import RandomUnderSampler\n",
        "from collections import Counter\n",
        "from imblearn.over_sampling import SMOTE\n",
        "import seaborn as sns\n",
        "import matplotlib.pyplot as plt\n",
        "from sklearn import preprocessing\n",
        "from sklearn.linear_model import LogisticRegression\n",
        "import time as time"
      ]
    },
    {
      "cell_type": "code",
      "source": [
        "#veriseti baglantısı\n",
        "parkinsons_data = pd.read_csv('/content/ReplicatedAcousticFeatures-ParkinsonDatabase.csv')"
      ],
      "metadata": {
        "id": "QZFNGWsa9K5-",
        "colab": {
          "base_uri": "https://localhost:8080/",
          "height": 338
        },
        "outputId": "a08dc69e-20e5-4985-a347-7650649b23c7"
      },
      "execution_count": null,
      "outputs": [
        {
          "output_type": "error",
          "ename": "FileNotFoundError",
          "evalue": "ignored",
          "traceback": [
            "\u001b[0;31m---------------------------------------------------------------------------\u001b[0m",
            "\u001b[0;31mFileNotFoundError\u001b[0m                         Traceback (most recent call last)",
            "\u001b[0;32m<ipython-input-2-e4ab3d1f165b>\u001b[0m in \u001b[0;36m<cell line: 2>\u001b[0;34m()\u001b[0m\n\u001b[1;32m      1\u001b[0m \u001b[0;31m#veriseti baglantısı\u001b[0m\u001b[0;34m\u001b[0m\u001b[0;34m\u001b[0m\u001b[0m\n\u001b[0;32m----> 2\u001b[0;31m \u001b[0mparkinsons_data\u001b[0m \u001b[0;34m=\u001b[0m \u001b[0mpd\u001b[0m\u001b[0;34m.\u001b[0m\u001b[0mread_csv\u001b[0m\u001b[0;34m(\u001b[0m\u001b[0;34m'/content/ReplicatedAcousticFeatures-ParkinsonDatabase.csv'\u001b[0m\u001b[0;34m)\u001b[0m\u001b[0;34m\u001b[0m\u001b[0;34m\u001b[0m\u001b[0m\n\u001b[0m",
            "\u001b[0;32m/usr/local/lib/python3.10/dist-packages/pandas/util/_decorators.py\u001b[0m in \u001b[0;36mwrapper\u001b[0;34m(*args, **kwargs)\u001b[0m\n\u001b[1;32m    209\u001b[0m                 \u001b[0;32melse\u001b[0m\u001b[0;34m:\u001b[0m\u001b[0;34m\u001b[0m\u001b[0;34m\u001b[0m\u001b[0m\n\u001b[1;32m    210\u001b[0m                     \u001b[0mkwargs\u001b[0m\u001b[0;34m[\u001b[0m\u001b[0mnew_arg_name\u001b[0m\u001b[0;34m]\u001b[0m \u001b[0;34m=\u001b[0m \u001b[0mnew_arg_value\u001b[0m\u001b[0;34m\u001b[0m\u001b[0;34m\u001b[0m\u001b[0m\n\u001b[0;32m--> 211\u001b[0;31m             \u001b[0;32mreturn\u001b[0m \u001b[0mfunc\u001b[0m\u001b[0;34m(\u001b[0m\u001b[0;34m*\u001b[0m\u001b[0margs\u001b[0m\u001b[0;34m,\u001b[0m \u001b[0;34m**\u001b[0m\u001b[0mkwargs\u001b[0m\u001b[0;34m)\u001b[0m\u001b[0;34m\u001b[0m\u001b[0;34m\u001b[0m\u001b[0m\n\u001b[0m\u001b[1;32m    212\u001b[0m \u001b[0;34m\u001b[0m\u001b[0m\n\u001b[1;32m    213\u001b[0m         \u001b[0;32mreturn\u001b[0m \u001b[0mcast\u001b[0m\u001b[0;34m(\u001b[0m\u001b[0mF\u001b[0m\u001b[0;34m,\u001b[0m \u001b[0mwrapper\u001b[0m\u001b[0;34m)\u001b[0m\u001b[0;34m\u001b[0m\u001b[0;34m\u001b[0m\u001b[0m\n",
            "\u001b[0;32m/usr/local/lib/python3.10/dist-packages/pandas/util/_decorators.py\u001b[0m in \u001b[0;36mwrapper\u001b[0;34m(*args, **kwargs)\u001b[0m\n\u001b[1;32m    329\u001b[0m                     \u001b[0mstacklevel\u001b[0m\u001b[0;34m=\u001b[0m\u001b[0mfind_stack_level\u001b[0m\u001b[0;34m(\u001b[0m\u001b[0;34m)\u001b[0m\u001b[0;34m,\u001b[0m\u001b[0;34m\u001b[0m\u001b[0;34m\u001b[0m\u001b[0m\n\u001b[1;32m    330\u001b[0m                 )\n\u001b[0;32m--> 331\u001b[0;31m             \u001b[0;32mreturn\u001b[0m \u001b[0mfunc\u001b[0m\u001b[0;34m(\u001b[0m\u001b[0;34m*\u001b[0m\u001b[0margs\u001b[0m\u001b[0;34m,\u001b[0m \u001b[0;34m**\u001b[0m\u001b[0mkwargs\u001b[0m\u001b[0;34m)\u001b[0m\u001b[0;34m\u001b[0m\u001b[0;34m\u001b[0m\u001b[0m\n\u001b[0m\u001b[1;32m    332\u001b[0m \u001b[0;34m\u001b[0m\u001b[0m\n\u001b[1;32m    333\u001b[0m         \u001b[0;31m# error: \"Callable[[VarArg(Any), KwArg(Any)], Any]\" has no\u001b[0m\u001b[0;34m\u001b[0m\u001b[0;34m\u001b[0m\u001b[0m\n",
            "\u001b[0;32m/usr/local/lib/python3.10/dist-packages/pandas/io/parsers/readers.py\u001b[0m in \u001b[0;36mread_csv\u001b[0;34m(filepath_or_buffer, sep, delimiter, header, names, index_col, usecols, squeeze, prefix, mangle_dupe_cols, dtype, engine, converters, true_values, false_values, skipinitialspace, skiprows, skipfooter, nrows, na_values, keep_default_na, na_filter, verbose, skip_blank_lines, parse_dates, infer_datetime_format, keep_date_col, date_parser, dayfirst, cache_dates, iterator, chunksize, compression, thousands, decimal, lineterminator, quotechar, quoting, doublequote, escapechar, comment, encoding, encoding_errors, dialect, error_bad_lines, warn_bad_lines, on_bad_lines, delim_whitespace, low_memory, memory_map, float_precision, storage_options)\u001b[0m\n\u001b[1;32m    948\u001b[0m     \u001b[0mkwds\u001b[0m\u001b[0;34m.\u001b[0m\u001b[0mupdate\u001b[0m\u001b[0;34m(\u001b[0m\u001b[0mkwds_defaults\u001b[0m\u001b[0;34m)\u001b[0m\u001b[0;34m\u001b[0m\u001b[0;34m\u001b[0m\u001b[0m\n\u001b[1;32m    949\u001b[0m \u001b[0;34m\u001b[0m\u001b[0m\n\u001b[0;32m--> 950\u001b[0;31m     \u001b[0;32mreturn\u001b[0m \u001b[0m_read\u001b[0m\u001b[0;34m(\u001b[0m\u001b[0mfilepath_or_buffer\u001b[0m\u001b[0;34m,\u001b[0m \u001b[0mkwds\u001b[0m\u001b[0;34m)\u001b[0m\u001b[0;34m\u001b[0m\u001b[0;34m\u001b[0m\u001b[0m\n\u001b[0m\u001b[1;32m    951\u001b[0m \u001b[0;34m\u001b[0m\u001b[0m\n\u001b[1;32m    952\u001b[0m \u001b[0;34m\u001b[0m\u001b[0m\n",
            "\u001b[0;32m/usr/local/lib/python3.10/dist-packages/pandas/io/parsers/readers.py\u001b[0m in \u001b[0;36m_read\u001b[0;34m(filepath_or_buffer, kwds)\u001b[0m\n\u001b[1;32m    603\u001b[0m \u001b[0;34m\u001b[0m\u001b[0m\n\u001b[1;32m    604\u001b[0m     \u001b[0;31m# Create the parser.\u001b[0m\u001b[0;34m\u001b[0m\u001b[0;34m\u001b[0m\u001b[0m\n\u001b[0;32m--> 605\u001b[0;31m     \u001b[0mparser\u001b[0m \u001b[0;34m=\u001b[0m \u001b[0mTextFileReader\u001b[0m\u001b[0;34m(\u001b[0m\u001b[0mfilepath_or_buffer\u001b[0m\u001b[0;34m,\u001b[0m \u001b[0;34m**\u001b[0m\u001b[0mkwds\u001b[0m\u001b[0;34m)\u001b[0m\u001b[0;34m\u001b[0m\u001b[0;34m\u001b[0m\u001b[0m\n\u001b[0m\u001b[1;32m    606\u001b[0m \u001b[0;34m\u001b[0m\u001b[0m\n\u001b[1;32m    607\u001b[0m     \u001b[0;32mif\u001b[0m \u001b[0mchunksize\u001b[0m \u001b[0;32mor\u001b[0m \u001b[0miterator\u001b[0m\u001b[0;34m:\u001b[0m\u001b[0;34m\u001b[0m\u001b[0;34m\u001b[0m\u001b[0m\n",
            "\u001b[0;32m/usr/local/lib/python3.10/dist-packages/pandas/io/parsers/readers.py\u001b[0m in \u001b[0;36m__init__\u001b[0;34m(self, f, engine, **kwds)\u001b[0m\n\u001b[1;32m   1440\u001b[0m \u001b[0;34m\u001b[0m\u001b[0m\n\u001b[1;32m   1441\u001b[0m         \u001b[0mself\u001b[0m\u001b[0;34m.\u001b[0m\u001b[0mhandles\u001b[0m\u001b[0;34m:\u001b[0m \u001b[0mIOHandles\u001b[0m \u001b[0;34m|\u001b[0m \u001b[0;32mNone\u001b[0m \u001b[0;34m=\u001b[0m \u001b[0;32mNone\u001b[0m\u001b[0;34m\u001b[0m\u001b[0;34m\u001b[0m\u001b[0m\n\u001b[0;32m-> 1442\u001b[0;31m         \u001b[0mself\u001b[0m\u001b[0;34m.\u001b[0m\u001b[0m_engine\u001b[0m \u001b[0;34m=\u001b[0m \u001b[0mself\u001b[0m\u001b[0;34m.\u001b[0m\u001b[0m_make_engine\u001b[0m\u001b[0;34m(\u001b[0m\u001b[0mf\u001b[0m\u001b[0;34m,\u001b[0m \u001b[0mself\u001b[0m\u001b[0;34m.\u001b[0m\u001b[0mengine\u001b[0m\u001b[0;34m)\u001b[0m\u001b[0;34m\u001b[0m\u001b[0;34m\u001b[0m\u001b[0m\n\u001b[0m\u001b[1;32m   1443\u001b[0m \u001b[0;34m\u001b[0m\u001b[0m\n\u001b[1;32m   1444\u001b[0m     \u001b[0;32mdef\u001b[0m \u001b[0mclose\u001b[0m\u001b[0;34m(\u001b[0m\u001b[0mself\u001b[0m\u001b[0;34m)\u001b[0m \u001b[0;34m->\u001b[0m \u001b[0;32mNone\u001b[0m\u001b[0;34m:\u001b[0m\u001b[0;34m\u001b[0m\u001b[0;34m\u001b[0m\u001b[0m\n",
            "\u001b[0;32m/usr/local/lib/python3.10/dist-packages/pandas/io/parsers/readers.py\u001b[0m in \u001b[0;36m_make_engine\u001b[0;34m(self, f, engine)\u001b[0m\n\u001b[1;32m   1733\u001b[0m                 \u001b[0;32mif\u001b[0m \u001b[0;34m\"b\"\u001b[0m \u001b[0;32mnot\u001b[0m \u001b[0;32min\u001b[0m \u001b[0mmode\u001b[0m\u001b[0;34m:\u001b[0m\u001b[0;34m\u001b[0m\u001b[0;34m\u001b[0m\u001b[0m\n\u001b[1;32m   1734\u001b[0m                     \u001b[0mmode\u001b[0m \u001b[0;34m+=\u001b[0m \u001b[0;34m\"b\"\u001b[0m\u001b[0;34m\u001b[0m\u001b[0;34m\u001b[0m\u001b[0m\n\u001b[0;32m-> 1735\u001b[0;31m             self.handles = get_handle(\n\u001b[0m\u001b[1;32m   1736\u001b[0m                 \u001b[0mf\u001b[0m\u001b[0;34m,\u001b[0m\u001b[0;34m\u001b[0m\u001b[0;34m\u001b[0m\u001b[0m\n\u001b[1;32m   1737\u001b[0m                 \u001b[0mmode\u001b[0m\u001b[0;34m,\u001b[0m\u001b[0;34m\u001b[0m\u001b[0;34m\u001b[0m\u001b[0m\n",
            "\u001b[0;32m/usr/local/lib/python3.10/dist-packages/pandas/io/common.py\u001b[0m in \u001b[0;36mget_handle\u001b[0;34m(path_or_buf, mode, encoding, compression, memory_map, is_text, errors, storage_options)\u001b[0m\n\u001b[1;32m    854\u001b[0m         \u001b[0;32mif\u001b[0m \u001b[0mioargs\u001b[0m\u001b[0;34m.\u001b[0m\u001b[0mencoding\u001b[0m \u001b[0;32mand\u001b[0m \u001b[0;34m\"b\"\u001b[0m \u001b[0;32mnot\u001b[0m \u001b[0;32min\u001b[0m \u001b[0mioargs\u001b[0m\u001b[0;34m.\u001b[0m\u001b[0mmode\u001b[0m\u001b[0;34m:\u001b[0m\u001b[0;34m\u001b[0m\u001b[0;34m\u001b[0m\u001b[0m\n\u001b[1;32m    855\u001b[0m             \u001b[0;31m# Encoding\u001b[0m\u001b[0;34m\u001b[0m\u001b[0;34m\u001b[0m\u001b[0m\n\u001b[0;32m--> 856\u001b[0;31m             handle = open(\n\u001b[0m\u001b[1;32m    857\u001b[0m                 \u001b[0mhandle\u001b[0m\u001b[0;34m,\u001b[0m\u001b[0;34m\u001b[0m\u001b[0;34m\u001b[0m\u001b[0m\n\u001b[1;32m    858\u001b[0m                 \u001b[0mioargs\u001b[0m\u001b[0;34m.\u001b[0m\u001b[0mmode\u001b[0m\u001b[0;34m,\u001b[0m\u001b[0;34m\u001b[0m\u001b[0;34m\u001b[0m\u001b[0m\n",
            "\u001b[0;31mFileNotFoundError\u001b[0m: [Errno 2] No such file or directory: '/content/ReplicatedAcousticFeatures-ParkinsonDatabase.csv'"
          ]
        }
      ]
    },
    {
      "cell_type": "code",
      "source": [
        "#5 satiri yazdirip icerige bakildi\n",
        "parkinsons_data.head()"
      ],
      "metadata": {
        "colab": {
          "base_uri": "https://localhost:8080/",
          "height": 386
        },
        "id": "-t8Hl-Iq9WW7",
        "outputId": "5fa479d8-0a8d-497e-d587-2aeb9ee636dc"
      },
      "execution_count": null,
      "outputs": [
        {
          "output_type": "execute_result",
          "data": {
            "text/plain": [
              "        ID  Recording  Status  Gender  Jitter_rel  Jitter_abs  Jitter_RAP  \\\n",
              "0  CONT-01          1       0       1     0.25546    0.000015    0.001467   \n",
              "1  CONT-01          2       0       1     0.36964    0.000022    0.001932   \n",
              "2  CONT-01          3       0       1     0.23514    0.000013    0.001353   \n",
              "3  CONT-02          1       0       0     0.29320    0.000017    0.001105   \n",
              "4  CONT-02          2       0       0     0.23075    0.000015    0.001073   \n",
              "\n",
              "   Jitter_PPQ  Shim_loc  Shim_dB  ...    Delta3    Delta4    Delta5    Delta6  \\\n",
              "0    0.001673  0.030256  0.26313  ...  1.407701  1.417218  1.380352  1.420670   \n",
              "1    0.002245  0.023146  0.20217  ...  1.331232  1.227338  1.213377  1.352739   \n",
              "2    0.001546  0.019338  0.16710  ...  1.412304  1.324674  1.276088  1.429634   \n",
              "3    0.001444  0.024716  0.20892  ...  1.501200  1.534170  1.323993  1.496442   \n",
              "4    0.001404  0.013119  0.11607  ...  1.508468  1.334511  1.610694  1.685021   \n",
              "\n",
              "     Delta7    Delta8    Delta9   Delta10   Delta11   Delta12  \n",
              "0  1.451240  1.440295  1.403678  1.405495  1.416705  1.354610  \n",
              "1  1.354242  1.365692  1.322870  1.314549  1.318999  1.323508  \n",
              "2  1.455996  1.368882  1.438053  1.388910  1.305469  1.305402  \n",
              "3  1.472926  1.643177  1.551286  1.638346  1.604008  1.621456  \n",
              "4  1.417614  1.574895  1.640088  1.533666  1.297536  1.382023  \n",
              "\n",
              "[5 rows x 48 columns]"
            ],
            "text/html": [
              "\n",
              "  <div id=\"df-7a45a88e-599f-469f-a8df-d454fd1e8d7a\">\n",
              "    <div class=\"colab-df-container\">\n",
              "      <div>\n",
              "<style scoped>\n",
              "    .dataframe tbody tr th:only-of-type {\n",
              "        vertical-align: middle;\n",
              "    }\n",
              "\n",
              "    .dataframe tbody tr th {\n",
              "        vertical-align: top;\n",
              "    }\n",
              "\n",
              "    .dataframe thead th {\n",
              "        text-align: right;\n",
              "    }\n",
              "</style>\n",
              "<table border=\"1\" class=\"dataframe\">\n",
              "  <thead>\n",
              "    <tr style=\"text-align: right;\">\n",
              "      <th></th>\n",
              "      <th>ID</th>\n",
              "      <th>Recording</th>\n",
              "      <th>Status</th>\n",
              "      <th>Gender</th>\n",
              "      <th>Jitter_rel</th>\n",
              "      <th>Jitter_abs</th>\n",
              "      <th>Jitter_RAP</th>\n",
              "      <th>Jitter_PPQ</th>\n",
              "      <th>Shim_loc</th>\n",
              "      <th>Shim_dB</th>\n",
              "      <th>...</th>\n",
              "      <th>Delta3</th>\n",
              "      <th>Delta4</th>\n",
              "      <th>Delta5</th>\n",
              "      <th>Delta6</th>\n",
              "      <th>Delta7</th>\n",
              "      <th>Delta8</th>\n",
              "      <th>Delta9</th>\n",
              "      <th>Delta10</th>\n",
              "      <th>Delta11</th>\n",
              "      <th>Delta12</th>\n",
              "    </tr>\n",
              "  </thead>\n",
              "  <tbody>\n",
              "    <tr>\n",
              "      <th>0</th>\n",
              "      <td>CONT-01</td>\n",
              "      <td>1</td>\n",
              "      <td>0</td>\n",
              "      <td>1</td>\n",
              "      <td>0.25546</td>\n",
              "      <td>0.000015</td>\n",
              "      <td>0.001467</td>\n",
              "      <td>0.001673</td>\n",
              "      <td>0.030256</td>\n",
              "      <td>0.26313</td>\n",
              "      <td>...</td>\n",
              "      <td>1.407701</td>\n",
              "      <td>1.417218</td>\n",
              "      <td>1.380352</td>\n",
              "      <td>1.420670</td>\n",
              "      <td>1.451240</td>\n",
              "      <td>1.440295</td>\n",
              "      <td>1.403678</td>\n",
              "      <td>1.405495</td>\n",
              "      <td>1.416705</td>\n",
              "      <td>1.354610</td>\n",
              "    </tr>\n",
              "    <tr>\n",
              "      <th>1</th>\n",
              "      <td>CONT-01</td>\n",
              "      <td>2</td>\n",
              "      <td>0</td>\n",
              "      <td>1</td>\n",
              "      <td>0.36964</td>\n",
              "      <td>0.000022</td>\n",
              "      <td>0.001932</td>\n",
              "      <td>0.002245</td>\n",
              "      <td>0.023146</td>\n",
              "      <td>0.20217</td>\n",
              "      <td>...</td>\n",
              "      <td>1.331232</td>\n",
              "      <td>1.227338</td>\n",
              "      <td>1.213377</td>\n",
              "      <td>1.352739</td>\n",
              "      <td>1.354242</td>\n",
              "      <td>1.365692</td>\n",
              "      <td>1.322870</td>\n",
              "      <td>1.314549</td>\n",
              "      <td>1.318999</td>\n",
              "      <td>1.323508</td>\n",
              "    </tr>\n",
              "    <tr>\n",
              "      <th>2</th>\n",
              "      <td>CONT-01</td>\n",
              "      <td>3</td>\n",
              "      <td>0</td>\n",
              "      <td>1</td>\n",
              "      <td>0.23514</td>\n",
              "      <td>0.000013</td>\n",
              "      <td>0.001353</td>\n",
              "      <td>0.001546</td>\n",
              "      <td>0.019338</td>\n",
              "      <td>0.16710</td>\n",
              "      <td>...</td>\n",
              "      <td>1.412304</td>\n",
              "      <td>1.324674</td>\n",
              "      <td>1.276088</td>\n",
              "      <td>1.429634</td>\n",
              "      <td>1.455996</td>\n",
              "      <td>1.368882</td>\n",
              "      <td>1.438053</td>\n",
              "      <td>1.388910</td>\n",
              "      <td>1.305469</td>\n",
              "      <td>1.305402</td>\n",
              "    </tr>\n",
              "    <tr>\n",
              "      <th>3</th>\n",
              "      <td>CONT-02</td>\n",
              "      <td>1</td>\n",
              "      <td>0</td>\n",
              "      <td>0</td>\n",
              "      <td>0.29320</td>\n",
              "      <td>0.000017</td>\n",
              "      <td>0.001105</td>\n",
              "      <td>0.001444</td>\n",
              "      <td>0.024716</td>\n",
              "      <td>0.20892</td>\n",
              "      <td>...</td>\n",
              "      <td>1.501200</td>\n",
              "      <td>1.534170</td>\n",
              "      <td>1.323993</td>\n",
              "      <td>1.496442</td>\n",
              "      <td>1.472926</td>\n",
              "      <td>1.643177</td>\n",
              "      <td>1.551286</td>\n",
              "      <td>1.638346</td>\n",
              "      <td>1.604008</td>\n",
              "      <td>1.621456</td>\n",
              "    </tr>\n",
              "    <tr>\n",
              "      <th>4</th>\n",
              "      <td>CONT-02</td>\n",
              "      <td>2</td>\n",
              "      <td>0</td>\n",
              "      <td>0</td>\n",
              "      <td>0.23075</td>\n",
              "      <td>0.000015</td>\n",
              "      <td>0.001073</td>\n",
              "      <td>0.001404</td>\n",
              "      <td>0.013119</td>\n",
              "      <td>0.11607</td>\n",
              "      <td>...</td>\n",
              "      <td>1.508468</td>\n",
              "      <td>1.334511</td>\n",
              "      <td>1.610694</td>\n",
              "      <td>1.685021</td>\n",
              "      <td>1.417614</td>\n",
              "      <td>1.574895</td>\n",
              "      <td>1.640088</td>\n",
              "      <td>1.533666</td>\n",
              "      <td>1.297536</td>\n",
              "      <td>1.382023</td>\n",
              "    </tr>\n",
              "  </tbody>\n",
              "</table>\n",
              "<p>5 rows × 48 columns</p>\n",
              "</div>\n",
              "      <button class=\"colab-df-convert\" onclick=\"convertToInteractive('df-7a45a88e-599f-469f-a8df-d454fd1e8d7a')\"\n",
              "              title=\"Convert this dataframe to an interactive table.\"\n",
              "              style=\"display:none;\">\n",
              "        \n",
              "  <svg xmlns=\"http://www.w3.org/2000/svg\" height=\"24px\"viewBox=\"0 0 24 24\"\n",
              "       width=\"24px\">\n",
              "    <path d=\"M0 0h24v24H0V0z\" fill=\"none\"/>\n",
              "    <path d=\"M18.56 5.44l.94 2.06.94-2.06 2.06-.94-2.06-.94-.94-2.06-.94 2.06-2.06.94zm-11 1L8.5 8.5l.94-2.06 2.06-.94-2.06-.94L8.5 2.5l-.94 2.06-2.06.94zm10 10l.94 2.06.94-2.06 2.06-.94-2.06-.94-.94-2.06-.94 2.06-2.06.94z\"/><path d=\"M17.41 7.96l-1.37-1.37c-.4-.4-.92-.59-1.43-.59-.52 0-1.04.2-1.43.59L10.3 9.45l-7.72 7.72c-.78.78-.78 2.05 0 2.83L4 21.41c.39.39.9.59 1.41.59.51 0 1.02-.2 1.41-.59l7.78-7.78 2.81-2.81c.8-.78.8-2.07 0-2.86zM5.41 20L4 18.59l7.72-7.72 1.47 1.35L5.41 20z\"/>\n",
              "  </svg>\n",
              "      </button>\n",
              "      \n",
              "  <style>\n",
              "    .colab-df-container {\n",
              "      display:flex;\n",
              "      flex-wrap:wrap;\n",
              "      gap: 12px;\n",
              "    }\n",
              "\n",
              "    .colab-df-convert {\n",
              "      background-color: #E8F0FE;\n",
              "      border: none;\n",
              "      border-radius: 50%;\n",
              "      cursor: pointer;\n",
              "      display: none;\n",
              "      fill: #1967D2;\n",
              "      height: 32px;\n",
              "      padding: 0 0 0 0;\n",
              "      width: 32px;\n",
              "    }\n",
              "\n",
              "    .colab-df-convert:hover {\n",
              "      background-color: #E2EBFA;\n",
              "      box-shadow: 0px 1px 2px rgba(60, 64, 67, 0.3), 0px 1px 3px 1px rgba(60, 64, 67, 0.15);\n",
              "      fill: #174EA6;\n",
              "    }\n",
              "\n",
              "    [theme=dark] .colab-df-convert {\n",
              "      background-color: #3B4455;\n",
              "      fill: #D2E3FC;\n",
              "    }\n",
              "\n",
              "    [theme=dark] .colab-df-convert:hover {\n",
              "      background-color: #434B5C;\n",
              "      box-shadow: 0px 1px 3px 1px rgba(0, 0, 0, 0.15);\n",
              "      filter: drop-shadow(0px 1px 2px rgba(0, 0, 0, 0.3));\n",
              "      fill: #FFFFFF;\n",
              "    }\n",
              "  </style>\n",
              "\n",
              "      <script>\n",
              "        const buttonEl =\n",
              "          document.querySelector('#df-7a45a88e-599f-469f-a8df-d454fd1e8d7a button.colab-df-convert');\n",
              "        buttonEl.style.display =\n",
              "          google.colab.kernel.accessAllowed ? 'block' : 'none';\n",
              "\n",
              "        async function convertToInteractive(key) {\n",
              "          const element = document.querySelector('#df-7a45a88e-599f-469f-a8df-d454fd1e8d7a');\n",
              "          const dataTable =\n",
              "            await google.colab.kernel.invokeFunction('convertToInteractive',\n",
              "                                                     [key], {});\n",
              "          if (!dataTable) return;\n",
              "\n",
              "          const docLinkHtml = 'Like what you see? Visit the ' +\n",
              "            '<a target=\"_blank\" href=https://colab.research.google.com/notebooks/data_table.ipynb>data table notebook</a>'\n",
              "            + ' to learn more about interactive tables.';\n",
              "          element.innerHTML = '';\n",
              "          dataTable['output_type'] = 'display_data';\n",
              "          await google.colab.output.renderOutput(dataTable, element);\n",
              "          const docLink = document.createElement('div');\n",
              "          docLink.innerHTML = docLinkHtml;\n",
              "          element.appendChild(docLink);\n",
              "        }\n",
              "      </script>\n",
              "    </div>\n",
              "  </div>\n",
              "  "
            ]
          },
          "metadata": {},
          "execution_count": 5
        }
      ]
    },
    {
      "cell_type": "code",
      "source": [
        "#kac satir ve sutun olduguna bakildi\n",
        "parkinsons_data.shape"
      ],
      "metadata": {
        "colab": {
          "base_uri": "https://localhost:8080/"
        },
        "id": "pHiweSlV9Yp7",
        "outputId": "4a67f943-9718-414f-b0ff-051a72b482e6"
      },
      "execution_count": null,
      "outputs": [
        {
          "output_type": "execute_result",
          "data": {
            "text/plain": [
              "(240, 48)"
            ]
          },
          "metadata": {},
          "execution_count": 6
        }
      ]
    },
    {
      "cell_type": "code",
      "source": [
        "#veri setinin analizi icin bilgiler getirildi\n",
        "parkinsons_data.info()"
      ],
      "metadata": {
        "colab": {
          "base_uri": "https://localhost:8080/"
        },
        "id": "2JhUG_bp9aZg",
        "outputId": "c964fcc6-e99f-439c-de7c-e9c25ffac876"
      },
      "execution_count": null,
      "outputs": [
        {
          "output_type": "stream",
          "name": "stdout",
          "text": [
            "<class 'pandas.core.frame.DataFrame'>\n",
            "RangeIndex: 240 entries, 0 to 239\n",
            "Data columns (total 48 columns):\n",
            " #   Column      Non-Null Count  Dtype  \n",
            "---  ------      --------------  -----  \n",
            " 0   ID          240 non-null    object \n",
            " 1   Recording   240 non-null    int64  \n",
            " 2   Status      240 non-null    int64  \n",
            " 3   Gender      240 non-null    int64  \n",
            " 4   Jitter_rel  240 non-null    float64\n",
            " 5   Jitter_abs  240 non-null    float64\n",
            " 6   Jitter_RAP  240 non-null    float64\n",
            " 7   Jitter_PPQ  240 non-null    float64\n",
            " 8   Shim_loc    240 non-null    float64\n",
            " 9   Shim_dB     240 non-null    float64\n",
            " 10  Shim_APQ3   240 non-null    float64\n",
            " 11  Shim_APQ5   240 non-null    float64\n",
            " 12  Shi_APQ11   240 non-null    float64\n",
            " 13  HNR05       240 non-null    float64\n",
            " 14  HNR15       240 non-null    float64\n",
            " 15  HNR25       240 non-null    float64\n",
            " 16  HNR35       240 non-null    float64\n",
            " 17  HNR38       240 non-null    float64\n",
            " 18  RPDE        240 non-null    float64\n",
            " 19  DFA         240 non-null    float64\n",
            " 20  PPE         240 non-null    float64\n",
            " 21  GNE         240 non-null    float64\n",
            " 22  MFCC0       240 non-null    float64\n",
            " 23  MFCC1       240 non-null    float64\n",
            " 24  MFCC2       240 non-null    float64\n",
            " 25  MFCC3       240 non-null    float64\n",
            " 26  MFCC4       240 non-null    float64\n",
            " 27  MFCC5       240 non-null    float64\n",
            " 28  MFCC6       240 non-null    float64\n",
            " 29  MFCC7       240 non-null    float64\n",
            " 30  MFCC8       240 non-null    float64\n",
            " 31  MFCC9       240 non-null    float64\n",
            " 32  MFCC10      240 non-null    float64\n",
            " 33  MFCC11      240 non-null    float64\n",
            " 34  MFCC12      240 non-null    float64\n",
            " 35  Delta0      240 non-null    float64\n",
            " 36  Delta1      240 non-null    float64\n",
            " 37  Delta2      240 non-null    float64\n",
            " 38  Delta3      240 non-null    float64\n",
            " 39  Delta4      240 non-null    float64\n",
            " 40  Delta5      240 non-null    float64\n",
            " 41  Delta6      240 non-null    float64\n",
            " 42  Delta7      240 non-null    float64\n",
            " 43  Delta8      240 non-null    float64\n",
            " 44  Delta9      240 non-null    float64\n",
            " 45  Delta10     240 non-null    float64\n",
            " 46  Delta11     240 non-null    float64\n",
            " 47  Delta12     240 non-null    float64\n",
            "dtypes: float64(44), int64(3), object(1)\n",
            "memory usage: 90.1+ KB\n"
          ]
        }
      ]
    },
    {
      "cell_type": "code",
      "source": [
        "# veri setinin icindeki eksik degerler tespit edildi\n",
        "parkinsons_data.isnull().sum()"
      ],
      "metadata": {
        "colab": {
          "base_uri": "https://localhost:8080/"
        },
        "id": "2Ofq4tMP9cHS",
        "outputId": "03eea60f-8b6f-450c-d9d6-76ad2d5d1b9d"
      },
      "execution_count": null,
      "outputs": [
        {
          "output_type": "execute_result",
          "data": {
            "text/plain": [
              "ID            0\n",
              "Recording     0\n",
              "Status        0\n",
              "Gender        0\n",
              "Jitter_rel    0\n",
              "Jitter_abs    0\n",
              "Jitter_RAP    0\n",
              "Jitter_PPQ    0\n",
              "Shim_loc      0\n",
              "Shim_dB       0\n",
              "Shim_APQ3     0\n",
              "Shim_APQ5     0\n",
              "Shi_APQ11     0\n",
              "HNR05         0\n",
              "HNR15         0\n",
              "HNR25         0\n",
              "HNR35         0\n",
              "HNR38         0\n",
              "RPDE          0\n",
              "DFA           0\n",
              "PPE           0\n",
              "GNE           0\n",
              "MFCC0         0\n",
              "MFCC1         0\n",
              "MFCC2         0\n",
              "MFCC3         0\n",
              "MFCC4         0\n",
              "MFCC5         0\n",
              "MFCC6         0\n",
              "MFCC7         0\n",
              "MFCC8         0\n",
              "MFCC9         0\n",
              "MFCC10        0\n",
              "MFCC11        0\n",
              "MFCC12        0\n",
              "Delta0        0\n",
              "Delta1        0\n",
              "Delta2        0\n",
              "Delta3        0\n",
              "Delta4        0\n",
              "Delta5        0\n",
              "Delta6        0\n",
              "Delta7        0\n",
              "Delta8        0\n",
              "Delta9        0\n",
              "Delta10       0\n",
              "Delta11       0\n",
              "Delta12       0\n",
              "dtype: int64"
            ]
          },
          "metadata": {},
          "execution_count": 8
        }
      ]
    },
    {
      "cell_type": "code",
      "source": [
        "#kac adet ID var bulundu\n",
        "parkinsons_data.ID.nunique()"
      ],
      "metadata": {
        "colab": {
          "base_uri": "https://localhost:8080/"
        },
        "id": "d6Tv2fqIxxAG",
        "outputId": "523b9081-ea82-42be-b789-1aae29677d68"
      },
      "execution_count": null,
      "outputs": [
        {
          "output_type": "execute_result",
          "data": {
            "text/plain": [
              "80"
            ]
          },
          "metadata": {},
          "execution_count": 9
        }
      ]
    },
    {
      "cell_type": "code",
      "source": [
        "#verilerin istatiksel degerlerini aldik max,min..\n",
        "parkinsons_data.describe()"
      ],
      "metadata": {
        "colab": {
          "base_uri": "https://localhost:8080/",
          "height": 393
        },
        "id": "0bu-W7Bgx7xF",
        "outputId": "40eeb3e5-bee2-41b2-e3ac-36b5bb651688"
      },
      "execution_count": null,
      "outputs": [
        {
          "output_type": "execute_result",
          "data": {
            "text/plain": [
              "        Recording      Status      Gender  Jitter_rel  Jitter_abs  Jitter_RAP  \\\n",
              "count  240.000000  240.000000  240.000000  240.000000  240.000000  240.000000   \n",
              "mean     2.000000    0.500000    0.400000    0.583987    0.000044    0.003172   \n",
              "std      0.818203    0.501045    0.490922    0.535769    0.000045    0.003373   \n",
              "min      1.000000    0.000000    0.000000    0.148010    0.000007    0.000678   \n",
              "25%      1.000000    0.000000    0.000000    0.298260    0.000019    0.001551   \n",
              "50%      2.000000    0.500000    0.000000    0.481455    0.000035    0.002337   \n",
              "75%      3.000000    1.000000    1.000000    0.681685    0.000056    0.003678   \n",
              "max      3.000000    1.000000    1.000000    6.838200    0.000550    0.043843   \n",
              "\n",
              "       Jitter_PPQ    Shim_loc     Shim_dB   Shim_APQ3  ...      Delta3  \\\n",
              "count  240.000000  240.000000  240.000000  240.000000  ...  240.000000   \n",
              "mean     0.003532    0.038428    0.336832    0.021499  ...    1.343238   \n",
              "std      0.004449    0.023213    0.205905    0.013787  ...    0.198174   \n",
              "min      0.001036    0.007444    0.064989    0.003344  ...    0.766458   \n",
              "25%      0.001867    0.024336    0.211785    0.012910  ...    1.208624   \n",
              "50%      0.002870    0.032960    0.287885    0.018571  ...    1.351015   \n",
              "75%      0.003991    0.045475    0.399860    0.025784  ...    1.488878   \n",
              "max      0.065199    0.192600    1.747600    0.113240  ...    1.860588   \n",
              "\n",
              "           Delta4      Delta5      Delta6      Delta7      Delta8      Delta9  \\\n",
              "count  240.000000  240.000000  240.000000  240.000000  240.000000  240.000000   \n",
              "mean     1.348914    1.337717    1.341786    1.340895    1.343978    1.341472   \n",
              "std      0.212008    0.204978    0.209407    0.213689    0.211364    0.204085   \n",
              "min      0.840133    0.741690    0.759689    0.764649    0.762798    0.811942   \n",
              "25%      1.221101    1.197868    1.194186    1.194138    1.191881    1.189515   \n",
              "50%      1.342237    1.337233    1.338437    1.344416    1.335517    1.349243   \n",
              "75%      1.470287    1.485597    1.496845    1.490389    1.495355    1.475330   \n",
              "max      2.038241    1.785984    1.988090    1.872799    1.920131    1.943331   \n",
              "\n",
              "          Delta10     Delta11     Delta12  \n",
              "count  240.000000  240.000000  240.000000  \n",
              "mean     1.331433    1.346381    1.346144  \n",
              "std      0.211297    0.221484    0.208819  \n",
              "min      0.777012    0.643132    0.748411  \n",
              "25%      1.192397    1.202525    1.206559  \n",
              "50%      1.333345    1.347297    1.331212  \n",
              "75%      1.472589    1.506674    1.475235  \n",
              "max      1.949679    1.918392    1.930103  \n",
              "\n",
              "[8 rows x 47 columns]"
            ],
            "text/html": [
              "\n",
              "  <div id=\"df-9c49e046-7b74-418f-9e9e-53d7420912df\">\n",
              "    <div class=\"colab-df-container\">\n",
              "      <div>\n",
              "<style scoped>\n",
              "    .dataframe tbody tr th:only-of-type {\n",
              "        vertical-align: middle;\n",
              "    }\n",
              "\n",
              "    .dataframe tbody tr th {\n",
              "        vertical-align: top;\n",
              "    }\n",
              "\n",
              "    .dataframe thead th {\n",
              "        text-align: right;\n",
              "    }\n",
              "</style>\n",
              "<table border=\"1\" class=\"dataframe\">\n",
              "  <thead>\n",
              "    <tr style=\"text-align: right;\">\n",
              "      <th></th>\n",
              "      <th>Recording</th>\n",
              "      <th>Status</th>\n",
              "      <th>Gender</th>\n",
              "      <th>Jitter_rel</th>\n",
              "      <th>Jitter_abs</th>\n",
              "      <th>Jitter_RAP</th>\n",
              "      <th>Jitter_PPQ</th>\n",
              "      <th>Shim_loc</th>\n",
              "      <th>Shim_dB</th>\n",
              "      <th>Shim_APQ3</th>\n",
              "      <th>...</th>\n",
              "      <th>Delta3</th>\n",
              "      <th>Delta4</th>\n",
              "      <th>Delta5</th>\n",
              "      <th>Delta6</th>\n",
              "      <th>Delta7</th>\n",
              "      <th>Delta8</th>\n",
              "      <th>Delta9</th>\n",
              "      <th>Delta10</th>\n",
              "      <th>Delta11</th>\n",
              "      <th>Delta12</th>\n",
              "    </tr>\n",
              "  </thead>\n",
              "  <tbody>\n",
              "    <tr>\n",
              "      <th>count</th>\n",
              "      <td>240.000000</td>\n",
              "      <td>240.000000</td>\n",
              "      <td>240.000000</td>\n",
              "      <td>240.000000</td>\n",
              "      <td>240.000000</td>\n",
              "      <td>240.000000</td>\n",
              "      <td>240.000000</td>\n",
              "      <td>240.000000</td>\n",
              "      <td>240.000000</td>\n",
              "      <td>240.000000</td>\n",
              "      <td>...</td>\n",
              "      <td>240.000000</td>\n",
              "      <td>240.000000</td>\n",
              "      <td>240.000000</td>\n",
              "      <td>240.000000</td>\n",
              "      <td>240.000000</td>\n",
              "      <td>240.000000</td>\n",
              "      <td>240.000000</td>\n",
              "      <td>240.000000</td>\n",
              "      <td>240.000000</td>\n",
              "      <td>240.000000</td>\n",
              "    </tr>\n",
              "    <tr>\n",
              "      <th>mean</th>\n",
              "      <td>2.000000</td>\n",
              "      <td>0.500000</td>\n",
              "      <td>0.400000</td>\n",
              "      <td>0.583987</td>\n",
              "      <td>0.000044</td>\n",
              "      <td>0.003172</td>\n",
              "      <td>0.003532</td>\n",
              "      <td>0.038428</td>\n",
              "      <td>0.336832</td>\n",
              "      <td>0.021499</td>\n",
              "      <td>...</td>\n",
              "      <td>1.343238</td>\n",
              "      <td>1.348914</td>\n",
              "      <td>1.337717</td>\n",
              "      <td>1.341786</td>\n",
              "      <td>1.340895</td>\n",
              "      <td>1.343978</td>\n",
              "      <td>1.341472</td>\n",
              "      <td>1.331433</td>\n",
              "      <td>1.346381</td>\n",
              "      <td>1.346144</td>\n",
              "    </tr>\n",
              "    <tr>\n",
              "      <th>std</th>\n",
              "      <td>0.818203</td>\n",
              "      <td>0.501045</td>\n",
              "      <td>0.490922</td>\n",
              "      <td>0.535769</td>\n",
              "      <td>0.000045</td>\n",
              "      <td>0.003373</td>\n",
              "      <td>0.004449</td>\n",
              "      <td>0.023213</td>\n",
              "      <td>0.205905</td>\n",
              "      <td>0.013787</td>\n",
              "      <td>...</td>\n",
              "      <td>0.198174</td>\n",
              "      <td>0.212008</td>\n",
              "      <td>0.204978</td>\n",
              "      <td>0.209407</td>\n",
              "      <td>0.213689</td>\n",
              "      <td>0.211364</td>\n",
              "      <td>0.204085</td>\n",
              "      <td>0.211297</td>\n",
              "      <td>0.221484</td>\n",
              "      <td>0.208819</td>\n",
              "    </tr>\n",
              "    <tr>\n",
              "      <th>min</th>\n",
              "      <td>1.000000</td>\n",
              "      <td>0.000000</td>\n",
              "      <td>0.000000</td>\n",
              "      <td>0.148010</td>\n",
              "      <td>0.000007</td>\n",
              "      <td>0.000678</td>\n",
              "      <td>0.001036</td>\n",
              "      <td>0.007444</td>\n",
              "      <td>0.064989</td>\n",
              "      <td>0.003344</td>\n",
              "      <td>...</td>\n",
              "      <td>0.766458</td>\n",
              "      <td>0.840133</td>\n",
              "      <td>0.741690</td>\n",
              "      <td>0.759689</td>\n",
              "      <td>0.764649</td>\n",
              "      <td>0.762798</td>\n",
              "      <td>0.811942</td>\n",
              "      <td>0.777012</td>\n",
              "      <td>0.643132</td>\n",
              "      <td>0.748411</td>\n",
              "    </tr>\n",
              "    <tr>\n",
              "      <th>25%</th>\n",
              "      <td>1.000000</td>\n",
              "      <td>0.000000</td>\n",
              "      <td>0.000000</td>\n",
              "      <td>0.298260</td>\n",
              "      <td>0.000019</td>\n",
              "      <td>0.001551</td>\n",
              "      <td>0.001867</td>\n",
              "      <td>0.024336</td>\n",
              "      <td>0.211785</td>\n",
              "      <td>0.012910</td>\n",
              "      <td>...</td>\n",
              "      <td>1.208624</td>\n",
              "      <td>1.221101</td>\n",
              "      <td>1.197868</td>\n",
              "      <td>1.194186</td>\n",
              "      <td>1.194138</td>\n",
              "      <td>1.191881</td>\n",
              "      <td>1.189515</td>\n",
              "      <td>1.192397</td>\n",
              "      <td>1.202525</td>\n",
              "      <td>1.206559</td>\n",
              "    </tr>\n",
              "    <tr>\n",
              "      <th>50%</th>\n",
              "      <td>2.000000</td>\n",
              "      <td>0.500000</td>\n",
              "      <td>0.000000</td>\n",
              "      <td>0.481455</td>\n",
              "      <td>0.000035</td>\n",
              "      <td>0.002337</td>\n",
              "      <td>0.002870</td>\n",
              "      <td>0.032960</td>\n",
              "      <td>0.287885</td>\n",
              "      <td>0.018571</td>\n",
              "      <td>...</td>\n",
              "      <td>1.351015</td>\n",
              "      <td>1.342237</td>\n",
              "      <td>1.337233</td>\n",
              "      <td>1.338437</td>\n",
              "      <td>1.344416</td>\n",
              "      <td>1.335517</td>\n",
              "      <td>1.349243</td>\n",
              "      <td>1.333345</td>\n",
              "      <td>1.347297</td>\n",
              "      <td>1.331212</td>\n",
              "    </tr>\n",
              "    <tr>\n",
              "      <th>75%</th>\n",
              "      <td>3.000000</td>\n",
              "      <td>1.000000</td>\n",
              "      <td>1.000000</td>\n",
              "      <td>0.681685</td>\n",
              "      <td>0.000056</td>\n",
              "      <td>0.003678</td>\n",
              "      <td>0.003991</td>\n",
              "      <td>0.045475</td>\n",
              "      <td>0.399860</td>\n",
              "      <td>0.025784</td>\n",
              "      <td>...</td>\n",
              "      <td>1.488878</td>\n",
              "      <td>1.470287</td>\n",
              "      <td>1.485597</td>\n",
              "      <td>1.496845</td>\n",
              "      <td>1.490389</td>\n",
              "      <td>1.495355</td>\n",
              "      <td>1.475330</td>\n",
              "      <td>1.472589</td>\n",
              "      <td>1.506674</td>\n",
              "      <td>1.475235</td>\n",
              "    </tr>\n",
              "    <tr>\n",
              "      <th>max</th>\n",
              "      <td>3.000000</td>\n",
              "      <td>1.000000</td>\n",
              "      <td>1.000000</td>\n",
              "      <td>6.838200</td>\n",
              "      <td>0.000550</td>\n",
              "      <td>0.043843</td>\n",
              "      <td>0.065199</td>\n",
              "      <td>0.192600</td>\n",
              "      <td>1.747600</td>\n",
              "      <td>0.113240</td>\n",
              "      <td>...</td>\n",
              "      <td>1.860588</td>\n",
              "      <td>2.038241</td>\n",
              "      <td>1.785984</td>\n",
              "      <td>1.988090</td>\n",
              "      <td>1.872799</td>\n",
              "      <td>1.920131</td>\n",
              "      <td>1.943331</td>\n",
              "      <td>1.949679</td>\n",
              "      <td>1.918392</td>\n",
              "      <td>1.930103</td>\n",
              "    </tr>\n",
              "  </tbody>\n",
              "</table>\n",
              "<p>8 rows × 47 columns</p>\n",
              "</div>\n",
              "      <button class=\"colab-df-convert\" onclick=\"convertToInteractive('df-9c49e046-7b74-418f-9e9e-53d7420912df')\"\n",
              "              title=\"Convert this dataframe to an interactive table.\"\n",
              "              style=\"display:none;\">\n",
              "        \n",
              "  <svg xmlns=\"http://www.w3.org/2000/svg\" height=\"24px\"viewBox=\"0 0 24 24\"\n",
              "       width=\"24px\">\n",
              "    <path d=\"M0 0h24v24H0V0z\" fill=\"none\"/>\n",
              "    <path d=\"M18.56 5.44l.94 2.06.94-2.06 2.06-.94-2.06-.94-.94-2.06-.94 2.06-2.06.94zm-11 1L8.5 8.5l.94-2.06 2.06-.94-2.06-.94L8.5 2.5l-.94 2.06-2.06.94zm10 10l.94 2.06.94-2.06 2.06-.94-2.06-.94-.94-2.06-.94 2.06-2.06.94z\"/><path d=\"M17.41 7.96l-1.37-1.37c-.4-.4-.92-.59-1.43-.59-.52 0-1.04.2-1.43.59L10.3 9.45l-7.72 7.72c-.78.78-.78 2.05 0 2.83L4 21.41c.39.39.9.59 1.41.59.51 0 1.02-.2 1.41-.59l7.78-7.78 2.81-2.81c.8-.78.8-2.07 0-2.86zM5.41 20L4 18.59l7.72-7.72 1.47 1.35L5.41 20z\"/>\n",
              "  </svg>\n",
              "      </button>\n",
              "      \n",
              "  <style>\n",
              "    .colab-df-container {\n",
              "      display:flex;\n",
              "      flex-wrap:wrap;\n",
              "      gap: 12px;\n",
              "    }\n",
              "\n",
              "    .colab-df-convert {\n",
              "      background-color: #E8F0FE;\n",
              "      border: none;\n",
              "      border-radius: 50%;\n",
              "      cursor: pointer;\n",
              "      display: none;\n",
              "      fill: #1967D2;\n",
              "      height: 32px;\n",
              "      padding: 0 0 0 0;\n",
              "      width: 32px;\n",
              "    }\n",
              "\n",
              "    .colab-df-convert:hover {\n",
              "      background-color: #E2EBFA;\n",
              "      box-shadow: 0px 1px 2px rgba(60, 64, 67, 0.3), 0px 1px 3px 1px rgba(60, 64, 67, 0.15);\n",
              "      fill: #174EA6;\n",
              "    }\n",
              "\n",
              "    [theme=dark] .colab-df-convert {\n",
              "      background-color: #3B4455;\n",
              "      fill: #D2E3FC;\n",
              "    }\n",
              "\n",
              "    [theme=dark] .colab-df-convert:hover {\n",
              "      background-color: #434B5C;\n",
              "      box-shadow: 0px 1px 3px 1px rgba(0, 0, 0, 0.15);\n",
              "      filter: drop-shadow(0px 1px 2px rgba(0, 0, 0, 0.3));\n",
              "      fill: #FFFFFF;\n",
              "    }\n",
              "  </style>\n",
              "\n",
              "      <script>\n",
              "        const buttonEl =\n",
              "          document.querySelector('#df-9c49e046-7b74-418f-9e9e-53d7420912df button.colab-df-convert');\n",
              "        buttonEl.style.display =\n",
              "          google.colab.kernel.accessAllowed ? 'block' : 'none';\n",
              "\n",
              "        async function convertToInteractive(key) {\n",
              "          const element = document.querySelector('#df-9c49e046-7b74-418f-9e9e-53d7420912df');\n",
              "          const dataTable =\n",
              "            await google.colab.kernel.invokeFunction('convertToInteractive',\n",
              "                                                     [key], {});\n",
              "          if (!dataTable) return;\n",
              "\n",
              "          const docLinkHtml = 'Like what you see? Visit the ' +\n",
              "            '<a target=\"_blank\" href=https://colab.research.google.com/notebooks/data_table.ipynb>data table notebook</a>'\n",
              "            + ' to learn more about interactive tables.';\n",
              "          element.innerHTML = '';\n",
              "          dataTable['output_type'] = 'display_data';\n",
              "          await google.colab.output.renderOutput(dataTable, element);\n",
              "          const docLink = document.createElement('div');\n",
              "          docLink.innerHTML = docLinkHtml;\n",
              "          element.appendChild(docLink);\n",
              "        }\n",
              "      </script>\n",
              "    </div>\n",
              "  </div>\n",
              "  "
            ]
          },
          "metadata": {},
          "execution_count": 10
        }
      ]
    },
    {
      "cell_type": "code",
      "source": [
        "#cift kayit var mi kontrol edildi\n",
        "parkinsons_data.duplicated().sum()"
      ],
      "metadata": {
        "colab": {
          "base_uri": "https://localhost:8080/"
        },
        "id": "7ELdmiwNyFrN",
        "outputId": "0edfdfec-afee-482b-af2a-69204b2991bf"
      },
      "execution_count": null,
      "outputs": [
        {
          "output_type": "execute_result",
          "data": {
            "text/plain": [
              "0"
            ]
          },
          "metadata": {},
          "execution_count": 11
        }
      ]
    },
    {
      "cell_type": "code",
      "source": [
        "# statusa gore islem yapilsin - ID ve status uygulamaya dahil edilmesin\n",
        "X=parkinsons_data\n",
        "y=parkinsons_data['Status']\n",
        "X=X.drop(columns=[\"Status\",'ID'])\n",
        "print(X.shape,y.shape)"
      ],
      "metadata": {
        "colab": {
          "base_uri": "https://localhost:8080/"
        },
        "id": "jX5UDFy19fn2",
        "outputId": "003d29d5-a10a-43da-ee1d-ea0d96780964"
      },
      "execution_count": null,
      "outputs": [
        {
          "output_type": "stream",
          "name": "stdout",
          "text": [
            "(240, 46) (240,)\n"
          ]
        }
      ]
    },
    {
      "cell_type": "markdown",
      "source": [
        "1  --> Parkinson Hastasi\n",
        "\n",
        "0 --> Saglıklı\n"
      ],
      "metadata": {
        "id": "EJjZkkGz9hzz"
      }
    },
    {
      "cell_type": "code",
      "source": [
        "#hasta ve saglıklı kac durum var\n",
        "parkinsons_data.Status.value_counts()"
      ],
      "metadata": {
        "colab": {
          "base_uri": "https://localhost:8080/"
        },
        "id": "ScfbxNFL_Wcl",
        "outputId": "58e66092-a901-43ee-9392-93a83548603f"
      },
      "execution_count": null,
      "outputs": [
        {
          "output_type": "execute_result",
          "data": {
            "text/plain": [
              "0    120\n",
              "1    120\n",
              "Name: Status, dtype: int64"
            ]
          },
          "metadata": {},
          "execution_count": 13
        }
      ]
    },
    {
      "cell_type": "code",
      "source": [
        "#durumun grafigi\n",
        "sns.countplot(x=\"Status\", data=parkinsons_data)"
      ],
      "metadata": {
        "colab": {
          "base_uri": "https://localhost:8080/",
          "height": 296
        },
        "id": "bmpIMyo5yQLq",
        "outputId": "b2ca5775-456f-4a25-f11b-4d3b1fc34fbd"
      },
      "execution_count": null,
      "outputs": [
        {
          "output_type": "execute_result",
          "data": {
            "text/plain": [
              "<matplotlib.axes._subplots.AxesSubplot at 0x7fd9a3f72cd0>"
            ]
          },
          "metadata": {},
          "execution_count": 14
        },
        {
          "output_type": "display_data",
          "data": {
            "text/plain": [
              "<Figure size 432x288 with 1 Axes>"
            ],
            "image/png": "[encoded data removed]"
          },
          "metadata": {
            "needs_background": "light"
          }
        }
      ]
    },
    {
      "cell_type": "code",
      "source": [
        "parkinsons_data.Status.value_counts()"
      ],
      "metadata": {
        "colab": {
          "base_uri": "https://localhost:8080/"
        },
        "id": "pfepRSqwmB-S",
        "outputId": "048fb5c0-adb4-431f-ea69-c86956c4be2b"
      },
      "execution_count": null,
      "outputs": [
        {
          "output_type": "execute_result",
          "data": {
            "text/plain": [
              "0    120\n",
              "1    120\n",
              "Name: Status, dtype: int64"
            ]
          },
          "metadata": {},
          "execution_count": 17
        }
      ]
    },
    {
      "cell_type": "code",
      "source": [
        "\n",
        "print(str((120/(120+120))*100) + '% Parkinson Hastası Birey')"
      ],
      "metadata": {
        "id": "FjNMt0byyh3A",
        "colab": {
          "base_uri": "https://localhost:8080/"
        },
        "outputId": "e8476abc-6674-4d76-be92-e1ba47b7fdfb"
      },
      "execution_count": null,
      "outputs": [
        {
          "output_type": "stream",
          "name": "stdout",
          "text": [
            "50.0% Parkinson Hastası Birey\n"
          ]
        }
      ]
    },
    {
      "cell_type": "code",
      "source": [
        "# hasta ve saglıklı olanlar duruma (status) göre gruplandırıldı\n",
        "parkinsons_data.groupby('Status').mean()"
      ],
      "metadata": {
        "colab": {
          "base_uri": "https://localhost:8080/",
          "height": 237
        },
        "id": "J-cGLCD09iVp",
        "outputId": "40119602-962e-4f90-83b7-d223ed2a45d0"
      },
      "execution_count": null,
      "outputs": [
        {
          "output_type": "execute_result",
          "data": {
            "text/plain": [
              "        Recording  Gender  Jitter_rel  Jitter_abs  Jitter_RAP  Jitter_PPQ  \\\n",
              "Status                                                                      \n",
              "0             2.0    0.45    0.482186    0.000040    0.002486    0.002787   \n",
              "1             2.0    0.35    0.685788    0.000049    0.003858    0.004277   \n",
              "\n",
              "        Shim_loc   Shim_dB  Shim_APQ3  Shim_APQ5  ...    Delta3    Delta4  \\\n",
              "Status                                            ...                       \n",
              "0       0.032928  0.287586   0.018054   0.019978  ...  1.453583  1.460161   \n",
              "1       0.043928  0.386079   0.024945   0.026959  ...  1.232892  1.237667   \n",
              "\n",
              "          Delta5    Delta6    Delta7    Delta8    Delta9   Delta10   Delta11  \\\n",
              "Status                                                                         \n",
              "0       1.451821  1.446357  1.456511  1.444688  1.453727  1.441393  1.472436   \n",
              "1       1.223613  1.237214  1.225279  1.243267  1.229217  1.221474  1.220326   \n",
              "\n",
              "         Delta12  \n",
              "Status            \n",
              "0       1.457309  \n",
              "1       1.234979  \n",
              "\n",
              "[2 rows x 46 columns]"
            ],
            "text/html": [
              "\n",
              "  <div id=\"df-9ceb621a-0cd3-45da-a918-537e44a5c3cd\">\n",
              "    <div class=\"colab-df-container\">\n",
              "      <div>\n",
              "<style scoped>\n",
              "    .dataframe tbody tr th:only-of-type {\n",
              "        vertical-align: middle;\n",
              "    }\n",
              "\n",
              "    .dataframe tbody tr th {\n",
              "        vertical-align: top;\n",
              "    }\n",
              "\n",
              "    .dataframe thead th {\n",
              "        text-align: right;\n",
              "    }\n",
              "</style>\n",
              "<table border=\"1\" class=\"dataframe\">\n",
              "  <thead>\n",
              "    <tr style=\"text-align: right;\">\n",
              "      <th></th>\n",
              "      <th>Recording</th>\n",
              "      <th>Gender</th>\n",
              "      <th>Jitter_rel</th>\n",
              "      <th>Jitter_abs</th>\n",
              "      <th>Jitter_RAP</th>\n",
              "      <th>Jitter_PPQ</th>\n",
              "      <th>Shim_loc</th>\n",
              "      <th>Shim_dB</th>\n",
              "      <th>Shim_APQ3</th>\n",
              "      <th>Shim_APQ5</th>\n",
              "      <th>...</th>\n",
              "      <th>Delta3</th>\n",
              "      <th>Delta4</th>\n",
              "      <th>Delta5</th>\n",
              "      <th>Delta6</th>\n",
              "      <th>Delta7</th>\n",
              "      <th>Delta8</th>\n",
              "      <th>Delta9</th>\n",
              "      <th>Delta10</th>\n",
              "      <th>Delta11</th>\n",
              "      <th>Delta12</th>\n",
              "    </tr>\n",
              "    <tr>\n",
              "      <th>Status</th>\n",
              "      <th></th>\n",
              "      <th></th>\n",
              "      <th></th>\n",
              "      <th></th>\n",
              "      <th></th>\n",
              "      <th></th>\n",
              "      <th></th>\n",
              "      <th></th>\n",
              "      <th></th>\n",
              "      <th></th>\n",
              "      <th></th>\n",
              "      <th></th>\n",
              "      <th></th>\n",
              "      <th></th>\n",
              "      <th></th>\n",
              "      <th></th>\n",
              "      <th></th>\n",
              "      <th></th>\n",
              "      <th></th>\n",
              "      <th></th>\n",
              "      <th></th>\n",
              "    </tr>\n",
              "  </thead>\n",
              "  <tbody>\n",
              "    <tr>\n",
              "      <th>0</th>\n",
              "      <td>2.0</td>\n",
              "      <td>0.45</td>\n",
              "      <td>0.482186</td>\n",
              "      <td>0.000040</td>\n",
              "      <td>0.002486</td>\n",
              "      <td>0.002787</td>\n",
              "      <td>0.032928</td>\n",
              "      <td>0.287586</td>\n",
              "      <td>0.018054</td>\n",
              "      <td>0.019978</td>\n",
              "      <td>...</td>\n",
              "      <td>1.453583</td>\n",
              "      <td>1.460161</td>\n",
              "      <td>1.451821</td>\n",
              "      <td>1.446357</td>\n",
              "      <td>1.456511</td>\n",
              "      <td>1.444688</td>\n",
              "      <td>1.453727</td>\n",
              "      <td>1.441393</td>\n",
              "      <td>1.472436</td>\n",
              "      <td>1.457309</td>\n",
              "    </tr>\n",
              "    <tr>\n",
              "      <th>1</th>\n",
              "      <td>2.0</td>\n",
              "      <td>0.35</td>\n",
              "      <td>0.685788</td>\n",
              "      <td>0.000049</td>\n",
              "      <td>0.003858</td>\n",
              "      <td>0.004277</td>\n",
              "      <td>0.043928</td>\n",
              "      <td>0.386079</td>\n",
              "      <td>0.024945</td>\n",
              "      <td>0.026959</td>\n",
              "      <td>...</td>\n",
              "      <td>1.232892</td>\n",
              "      <td>1.237667</td>\n",
              "      <td>1.223613</td>\n",
              "      <td>1.237214</td>\n",
              "      <td>1.225279</td>\n",
              "      <td>1.243267</td>\n",
              "      <td>1.229217</td>\n",
              "      <td>1.221474</td>\n",
              "      <td>1.220326</td>\n",
              "      <td>1.234979</td>\n",
              "    </tr>\n",
              "  </tbody>\n",
              "</table>\n",
              "<p>2 rows × 46 columns</p>\n",
              "</div>\n",
              "      <button class=\"colab-df-convert\" onclick=\"convertToInteractive('df-9ceb621a-0cd3-45da-a918-537e44a5c3cd')\"\n",
              "              title=\"Convert this dataframe to an interactive table.\"\n",
              "              style=\"display:none;\">\n",
              "        \n",
              "  <svg xmlns=\"http://www.w3.org/2000/svg\" height=\"24px\"viewBox=\"0 0 24 24\"\n",
              "       width=\"24px\">\n",
              "    <path d=\"M0 0h24v24H0V0z\" fill=\"none\"/>\n",
              "    <path d=\"M18.56 5.44l.94 2.06.94-2.06 2.06-.94-2.06-.94-.94-2.06-.94 2.06-2.06.94zm-11 1L8.5 8.5l.94-2.06 2.06-.94-2.06-.94L8.5 2.5l-.94 2.06-2.06.94zm10 10l.94 2.06.94-2.06 2.06-.94-2.06-.94-.94-2.06-.94 2.06-2.06.94z\"/><path d=\"M17.41 7.96l-1.37-1.37c-.4-.4-.92-.59-1.43-.59-.52 0-1.04.2-1.43.59L10.3 9.45l-7.72 7.72c-.78.78-.78 2.05 0 2.83L4 21.41c.39.39.9.59 1.41.59.51 0 1.02-.2 1.41-.59l7.78-7.78 2.81-2.81c.8-.78.8-2.07 0-2.86zM5.41 20L4 18.59l7.72-7.72 1.47 1.35L5.41 20z\"/>\n",
              "  </svg>\n",
              "      </button>\n",
              "      \n",
              "  <style>\n",
              "    .colab-df-container {\n",
              "      display:flex;\n",
              "      flex-wrap:wrap;\n",
              "      gap: 12px;\n",
              "    }\n",
              "\n",
              "    .colab-df-convert {\n",
              "      background-color: #E8F0FE;\n",
              "      border: none;\n",
              "      border-radius: 50%;\n",
              "      cursor: pointer;\n",
              "      display: none;\n",
              "      fill: #1967D2;\n",
              "      height: 32px;\n",
              "      padding: 0 0 0 0;\n",
              "      width: 32px;\n",
              "    }\n",
              "\n",
              "    .colab-df-convert:hover {\n",
              "      background-color: #E2EBFA;\n",
              "      box-shadow: 0px 1px 2px rgba(60, 64, 67, 0.3), 0px 1px 3px 1px rgba(60, 64, 67, 0.15);\n",
              "      fill: #174EA6;\n",
              "    }\n",
              "\n",
              "    [theme=dark] .colab-df-convert {\n",
              "      background-color: #3B4455;\n",
              "      fill: #D2E3FC;\n",
              "    }\n",
              "\n",
              "    [theme=dark] .colab-df-convert:hover {\n",
              "      background-color: #434B5C;\n",
              "      box-shadow: 0px 1px 3px 1px rgba(0, 0, 0, 0.15);\n",
              "      filter: drop-shadow(0px 1px 2px rgba(0, 0, 0, 0.3));\n",
              "      fill: #FFFFFF;\n",
              "    }\n",
              "  </style>\n",
              "\n",
              "      <script>\n",
              "        const buttonEl =\n",
              "          document.querySelector('#df-9ceb621a-0cd3-45da-a918-537e44a5c3cd button.colab-df-convert');\n",
              "        buttonEl.style.display =\n",
              "          google.colab.kernel.accessAllowed ? 'block' : 'none';\n",
              "\n",
              "        async function convertToInteractive(key) {\n",
              "          const element = document.querySelector('#df-9ceb621a-0cd3-45da-a918-537e44a5c3cd');\n",
              "          const dataTable =\n",
              "            await google.colab.kernel.invokeFunction('convertToInteractive',\n",
              "                                                     [key], {});\n",
              "          if (!dataTable) return;\n",
              "\n",
              "          const docLinkHtml = 'Like what you see? Visit the ' +\n",
              "            '<a target=\"_blank\" href=https://colab.research.google.com/notebooks/data_table.ipynb>data table notebook</a>'\n",
              "            + ' to learn more about interactive tables.';\n",
              "          element.innerHTML = '';\n",
              "          dataTable['output_type'] = 'display_data';\n",
              "          await google.colab.output.renderOutput(dataTable, element);\n",
              "          const docLink = document.createElement('div');\n",
              "          docLink.innerHTML = docLinkHtml;\n",
              "          element.appendChild(docLink);\n",
              "        }\n",
              "      </script>\n",
              "    </div>\n",
              "  </div>\n",
              "  "
            ]
          },
          "metadata": {},
          "execution_count": 19
        }
      ]
    },
    {
      "cell_type": "code",
      "source": [
        "#iki sınıf arası bosluk arttırılır\n",
        "ran_under=TomekLinks(sampling_strategy='azinlik olmayan')\n",
        "X_under, y_under= ran_under.fit_resample(X, y)\n",
        "print(Counter(y_under))"
      ],
      "metadata": {
        "id": "dFZ1dMVr9lta",
        "colab": {
          "base_uri": "https://localhost:8080/"
        },
        "outputId": "0f3f177b-c1c5-4090-e4f4-89e7993af03d"
      },
      "execution_count": null,
      "outputs": [
        {
          "output_type": "stream",
          "name": "stdout",
          "text": [
            "Counter({0: 120, 1: 109})\n"
          ]
        }
      ]
    },
    {
      "cell_type": "code",
      "source": [
        "#veriseti dengeli hale getirme\n",
        "ran_over = RandomOverSampler(sampling_strategy='minority',random_state=1)\n",
        "X_over, y_over = ran_over.fit_resample(X, y)\n",
        "print(Counter(y_over))"
      ],
      "metadata": {
        "colab": {
          "base_uri": "https://localhost:8080/"
        },
        "id": "RUU6VZ-29nqz",
        "outputId": "b402a516-cde6-429e-b716-b1d01aab44e2"
      },
      "execution_count": null,
      "outputs": [
        {
          "output_type": "stream",
          "name": "stdout",
          "text": [
            "Counter({0: 120, 1: 120})\n"
          ]
        }
      ]
    },
    {
      "cell_type": "code",
      "source": [
        "#veriseti dengeleme\n",
        "ran_under = RandomUnderSampler(sampling_strategy='majority',random_state=1)\n",
        "X_under, y_under= ran_under.fit_resample(X, y)\n",
        "print(Counter(y_under))"
      ],
      "metadata": {
        "colab": {
          "base_uri": "https://localhost:8080/"
        },
        "id": "fCO7QOr29oJ5",
        "outputId": "66bd51f7-a341-45f8-f6f1-f92b2ae8ca2b"
      },
      "execution_count": null,
      "outputs": [
        {
          "output_type": "stream",
          "name": "stdout",
          "text": [
            "Counter({0: 120, 1: 120})\n"
          ]
        }
      ]
    },
    {
      "cell_type": "code",
      "source": [
        "park_over=X_over.copy()\n",
        "park_over['Status']=y_over\n",
        "park_under=X_under.copy()\n",
        "park_under['Status']=y_under"
      ],
      "metadata": {
        "id": "O9ug6akt9pVH"
      },
      "execution_count": null,
      "outputs": []
    },
    {
      "cell_type": "code",
      "source": [
        "figure, axis = plt.subplots(2, 2,figsize=(15,10))\n",
        "\n",
        "sns.scatterplot(ax=axis[0,0],data=park_over,x='Jitter_RAP',y='Jitter_PPQ',hue='Status')\n",
        "axis[0, 0].set_title(\"Oversampling Minority Scatter\")\n",
        "\n",
        "sns.countplot(ax=axis[0, 1],x=\"Status\", data=park_over)\n",
        "axis[0, 1].set_title(\"Oversampling Minority Count\")\n",
        "\n",
        "sns.scatterplot(ax=axis[1, 0],data=park_under,x='Jitter_RAP',y='Jitter_PPQ',hue='Status')\n",
        "axis[1, 0].set_title(\"Undersampling Majority Scatter\")\n",
        "\n",
        "sns.countplot(ax=axis[1, 1],x=\"Status\", data=park_under)\n",
        "axis[1, 1].set_title(\"Undersampling Majority Count\")\n",
        "plt.show()"
      ],
      "metadata": {
        "colab": {
          "base_uri": "https://localhost:8080/",
          "height": 622
        },
        "id": "d6lb1Q1E9s1H",
        "outputId": "6367e4ef-1236-49e4-f613-6156633d3d5d"
      },
      "execution_count": null,
      "outputs": [
        {
          "output_type": "display_data",
          "data": {
            "text/plain": [
              "<Figure size 1080x720 with 4 Axes>"
            ],
            "image/png": "[encoded data removed]"
          },
          "metadata": {
            "needs_background": "light"
          }
        }
      ]
    },
    {
      "cell_type": "code",
      "source": [
        "park_over.duplicated().sum()"
      ],
      "metadata": {
        "colab": {
          "base_uri": "https://localhost:8080/"
        },
        "id": "F02tHj0eue1O",
        "outputId": "19b97f75-17e0-4c8c-cffd-0042f89a5f15"
      },
      "execution_count": null,
      "outputs": [
        {
          "output_type": "execute_result",
          "data": {
            "text/plain": [
              "0"
            ]
          },
          "metadata": {},
          "execution_count": 26
        }
      ]
    },
    {
      "cell_type": "code",
      "source": [
        "sm = SMOTE(sampling_strategy='minority', random_state=1)\n",
        "X_smote, y_smote= sm.fit_resample(X, y)\n",
        "print(Counter(y_smote))"
      ],
      "metadata": {
        "colab": {
          "base_uri": "https://localhost:8080/"
        },
        "id": "8ZhuTgFluTFO",
        "outputId": "0bf2251b-0a00-4e23-e3ed-bcbf8f1a8992"
      },
      "execution_count": null,
      "outputs": [
        {
          "output_type": "stream",
          "name": "stdout",
          "text": [
            "Counter({0: 120, 1: 120})\n"
          ]
        }
      ]
    },
    {
      "cell_type": "code",
      "source": [
        "X_smote.columns"
      ],
      "metadata": {
        "colab": {
          "base_uri": "https://localhost:8080/"
        },
        "id": "JmbnIZ6rubZT",
        "outputId": "8c2fdaf3-5b8b-4747-a447-519fb9c8690c"
      },
      "execution_count": null,
      "outputs": [
        {
          "output_type": "execute_result",
          "data": {
            "text/plain": [
              "Index(['Recording', 'Gender', 'Jitter_rel', 'Jitter_abs', 'Jitter_RAP',\n",
              "       'Jitter_PPQ', 'Shim_loc', 'Shim_dB', 'Shim_APQ3', 'Shim_APQ5',\n",
              "       'Shi_APQ11', 'HNR05', 'HNR15', 'HNR25', 'HNR35', 'HNR38', 'RPDE', 'DFA',\n",
              "       'PPE', 'GNE', 'MFCC0', 'MFCC1', 'MFCC2', 'MFCC3', 'MFCC4', 'MFCC5',\n",
              "       'MFCC6', 'MFCC7', 'MFCC8', 'MFCC9', 'MFCC10', 'MFCC11', 'MFCC12',\n",
              "       'Delta0', 'Delta1', 'Delta2', 'Delta3', 'Delta4', 'Delta5', 'Delta6',\n",
              "       'Delta7', 'Delta8', 'Delta9', 'Delta10', 'Delta11', 'Delta12'],\n",
              "      dtype='object')"
            ]
          },
          "metadata": {},
          "execution_count": 28
        }
      ]
    },
    {
      "cell_type": "code",
      "source": [
        "park_smote=X_smote.copy()\n",
        "park_smote['Status']=y_smote"
      ],
      "metadata": {
        "id": "D7Mna_JFucC7"
      },
      "execution_count": null,
      "outputs": []
    },
    {
      "cell_type": "code",
      "source": [
        "fig, (ax1, ax2) = plt.subplots(1,2)\n",
        "fig.suptitle('SMOTE on First Feature with Countplot')\n",
        "sns.scatterplot(ax=ax1,data=park_smote,x='Jitter_RAP',y='Jitter_PPQ',hue='Status').set(title='SMOTE')\n",
        "sns.countplot(ax=ax2,x=\"Status\", data=park_smote).set(title='SMOTE Count')"
      ],
      "metadata": {
        "colab": {
          "base_uri": "https://localhost:8080/",
          "height": 326
        },
        "id": "SYOpMUdpubUO",
        "outputId": "7e623052-9c46-43a6-b7b1-4e2ddd2e41ab"
      },
      "execution_count": null,
      "outputs": [
        {
          "output_type": "execute_result",
          "data": {
            "text/plain": [
              "[Text(0.5, 1.0, 'SMOTE Count')]"
            ]
          },
          "metadata": {},
          "execution_count": 30
        },
        {
          "output_type": "display_data",
          "data": {
            "text/plain": [
              "<Figure size 432x288 with 2 Axes>"
            ],
            "image/png": "[encoded data removed]"
          },
          "metadata": {
            "needs_background": "light"
          }
        }
      ]
    },
    {
      "cell_type": "code",
      "source": [
        "cols=X_smote.columns"
      ],
      "metadata": {
        "id": "WChZfnhVu-Mx"
      },
      "execution_count": null,
      "outputs": []
    },
    {
      "cell_type": "code",
      "source": [
        "norm_smote=pd.DataFrame(preprocessing.normalize(X_smote),columns=cols)\n",
        "norm_over=pd.DataFrame(preprocessing.normalize(X_over),columns=cols)\n",
        "norm_under=pd.DataFrame(preprocessing.normalize(X_under),columns=cols)"
      ],
      "metadata": {
        "id": "_vZVG5SZ96ZW"
      },
      "execution_count": null,
      "outputs": []
    },
    {
      "cell_type": "code",
      "source": [
        "scale_under=pd.DataFrame(preprocessing.scale(X_under),columns=cols)\n",
        "scale_over=pd.DataFrame(preprocessing.scale(X_over),columns=cols)\n",
        "scale_smote=pd.DataFrame(preprocessing.scale(X_smote),columns=cols)"
      ],
      "metadata": {
        "id": "5Ppj2uWC97vz"
      },
      "execution_count": null,
      "outputs": []
    },
    {
      "cell_type": "code",
      "source": [
        "fig, axs = plt.subplots(1,2,figsize=(12,8))\n",
        "axs[0].hist(norm_smote['Jitter_RAP'], bins = 25, color = '#00A0A0')\n",
        "axs[0].title.set_text('Normallestirme')\n",
        "axs[1].hist(scale_smote['Jitter_PPQ'], bins = 25, color = '#00A0A0')\n",
        "axs[1].title.set_text('Olcekleme')"
      ],
      "metadata": {
        "id": "T4FZ5V0m99Wb",
        "colab": {
          "base_uri": "https://localhost:8080/",
          "height": 499
        },
        "outputId": "e5c45bf4-9877-43f0-e524-f3de40254750"
      },
      "execution_count": null,
      "outputs": [
        {
          "output_type": "display_data",
          "data": {
            "text/plain": [
              "<Figure size 864x576 with 2 Axes>"
            ],
            "image/png": "[encoded data removed]"
          },
          "metadata": {
            "needs_background": "light"
          }
        }
      ]
    },
    {
      "cell_type": "code",
      "source": [
        "X_train, X_test, Y_train, Y_test = train_test_split(X, y, test_size=0.2, random_state=2)"
      ],
      "metadata": {
        "id": "_xLhY2y6-Bcg"
      },
      "execution_count": null,
      "outputs": []
    },
    {
      "cell_type": "code",
      "source": [
        "print(X.shape, X_train.shape, X_test.shape)"
      ],
      "metadata": {
        "colab": {
          "base_uri": "https://localhost:8080/"
        },
        "id": "za_eCgog-CuP",
        "outputId": "d10e3db7-73b4-4ad8-b71a-79a23a2fda74"
      },
      "execution_count": null,
      "outputs": [
        {
          "output_type": "stream",
          "name": "stdout",
          "text": [
            "(240, 46) (192, 46) (48, 46)\n"
          ]
        }
      ]
    },
    {
      "cell_type": "code",
      "source": [
        "scaler = StandardScaler()"
      ],
      "metadata": {
        "id": "NjQtrRC3-DBB"
      },
      "execution_count": null,
      "outputs": []
    },
    {
      "cell_type": "code",
      "source": [
        "scaler.fit(X_train)"
      ],
      "metadata": {
        "colab": {
          "base_uri": "https://localhost:8080/"
        },
        "id": "9YpPJDS70-Yb",
        "outputId": "7c6ba4d1-b30e-4a7f-e745-7337fb463566"
      },
      "execution_count": null,
      "outputs": [
        {
          "output_type": "execute_result",
          "data": {
            "text/plain": [
              "StandardScaler()"
            ]
          },
          "metadata": {},
          "execution_count": 40
        }
      ]
    },
    {
      "cell_type": "code",
      "source": [
        "X_train = scaler.transform(X_train)\n",
        "\n",
        "X_test = scaler.transform(X_test)"
      ],
      "metadata": {
        "id": "MLHJGo-W0-PE"
      },
      "execution_count": null,
      "outputs": []
    },
    {
      "cell_type": "code",
      "source": [
        "print(X_train)"
      ],
      "metadata": {
        "colab": {
          "base_uri": "https://localhost:8080/"
        },
        "id": "Xk8EJYbR-FmP",
        "outputId": "0399ed76-7a04-46a5-d932-f28012b945df"
      },
      "execution_count": null,
      "outputs": [
        {
          "output_type": "stream",
          "name": "stdout",
          "text": [
            "[[ 1.23598654 -0.81826965 -0.23851362 ... -0.3907332  -0.27454441\n",
            "  -0.18805506]\n",
            " [ 1.23598654 -0.81826965 -0.69822393 ...  0.62691712  0.7693934\n",
            "  -0.20046911]\n",
            " [ 1.23598654 -0.81826965 -0.418101   ...  0.62598958  0.21048959\n",
            "  -0.25817647]\n",
            " ...\n",
            " [-1.22317838 -0.81826965 -0.54842873 ...  0.15720606  0.11204293\n",
            "   0.51020838]\n",
            " [-1.22317838  1.22209103 -0.31071706 ... -0.04807389  0.22128297\n",
            "   0.05863647]\n",
            " [-1.22317838 -0.81826965  1.8436014  ... -1.30117712 -0.72365215\n",
            "  -0.9632208 ]]\n"
          ]
        }
      ]
    },
    {
      "cell_type": "code",
      "source": [
        "model = svm.SVC(kernel='linear')"
      ],
      "metadata": {
        "id": "iPJr1bQG1E4y"
      },
      "execution_count": null,
      "outputs": []
    },
    {
      "cell_type": "code",
      "source": [
        "model.fit(X_train, Y_train)"
      ],
      "metadata": {
        "colab": {
          "base_uri": "https://localhost:8080/"
        },
        "id": "HfUDwr8z1FQ2",
        "outputId": "d959b2c9-357a-4755-989a-d054152b40ea"
      },
      "execution_count": null,
      "outputs": [
        {
          "output_type": "execute_result",
          "data": {
            "text/plain": [
              "SVC(kernel='linear')"
            ]
          },
          "metadata": {},
          "execution_count": 44
        }
      ]
    },
    {
      "cell_type": "code",
      "source": [
        "X_train_prediction = model.predict(X_train)\n",
        "training_data_accuracy = accuracy_score(Y_train, X_train_prediction)"
      ],
      "metadata": {
        "id": "SNJVGzeY1NcZ"
      },
      "execution_count": null,
      "outputs": []
    },
    {
      "cell_type": "code",
      "source": [
        "print('Egitim verilerinin dogruluk derecesi : ', training_data_accuracy)"
      ],
      "metadata": {
        "colab": {
          "base_uri": "https://localhost:8080/"
        },
        "id": "9wZvZEEZ1NZV",
        "outputId": "cbf1338d-ff1c-4bb0-d861-5dda7e158422"
      },
      "execution_count": null,
      "outputs": [
        {
          "output_type": "stream",
          "name": "stdout",
          "text": [
            "Egitim verilerinin dogruluk derecesi :  0.90625\n"
          ]
        }
      ]
    },
    {
      "cell_type": "code",
      "source": [
        "X_test_prediction = model.predict(X_test)\n",
        "test_data_accuracy = accuracy_score(Y_test, X_test_prediction)"
      ],
      "metadata": {
        "id": "Lv_J8IjW1NQV"
      },
      "execution_count": null,
      "outputs": []
    },
    {
      "cell_type": "code",
      "source": [
        "print('Test verilerinin dogruluk derecesi : ', test_data_accuracy)"
      ],
      "metadata": {
        "colab": {
          "base_uri": "https://localhost:8080/"
        },
        "id": "PP_X70601NFK",
        "outputId": "6a580be8-cfd1-4177-ecea-a67d0ac102fc"
      },
      "execution_count": null,
      "outputs": [
        {
          "output_type": "stream",
          "name": "stdout",
          "text": [
            "Test verilerinin dogruluk derecesi :  0.7083333333333334\n"
          ]
        }
      ]
    },
    {
      "cell_type": "code",
      "source": [
        "input_data = (1,0,1.6448,0.0001444,0.010153,0.0090937,0.083889,0.72901,0.048767,0.049748,0.057234,43.45710078,47.36107079,58.84008002,64.40114139,66.28290227,0.476412854,0.670279868,0.629180551,0.869918017,1.317719515,1.142050546,1.118315049,1.389429618,1.196776802,1.119816909,1.339750817,1.193893841,1.10012353,1.191333445,1.22167721,1.03299902,1.133471487,1.277402158,1.100026267,1.312853391,1.204035717,1.104822179,1.197922999,1.163285533,1.11239988,1.234032439,1.131826928,1.067379475,1.194269713,1.14080069\n",
        "\n",
        ")\n",
        "\n",
        "\n",
        "# girdiler diziye cevrildi\n",
        "input_data_as_numpy_array = np.asarray(input_data)\n",
        "\n",
        "input_data_reshaped = input_data_as_numpy_array.reshape(1,-1)\n",
        "\n",
        "# standardize the data\n",
        "std_data = scaler.transform(input_data_reshaped)\n",
        "\n",
        "prediction = model.predict(std_data)\n",
        "print(prediction)\n",
        "\n",
        "\n",
        "if (prediction[0] == 0):\n",
        "  print(\"Kisi Saglıklı\")\n",
        "\n",
        "else:\n",
        "  print(\"Kisi Parkinson\")\n"
      ],
      "metadata": {
        "colab": {
          "base_uri": "https://localhost:8080/"
        },
        "id": "pvH_1X-N-HKC",
        "outputId": "7dc3c404-87dc-45c0-d1ba-c6da37945e8c"
      },
      "execution_count": null,
      "outputs": [
        {
          "output_type": "stream",
          "name": "stdout",
          "text": [
            "[1]\n",
            "Kisi Parkinson\n"
          ]
        },
        {
          "output_type": "stream",
          "name": "stderr",
          "text": [
            "/usr/local/lib/python3.8/dist-packages/sklearn/base.py:450: UserWarning: X does not have valid feature names, but StandardScaler was fitted with feature names\n",
            "  warnings.warn(\n"
          ]
        }
      ]
    },
    {
      "cell_type": "code",
      "source": [
        "!git init\n",
        "!git add .  # Tüm dosyaları ekler\n",
        "!git commit -m \"İlk commit\"  # Değişiklikleri taahhüt eder\n",
        "!git branch -M main  # Ana dalı oluşturur (varsayılan olarak \"main\" kullanılır)\n",
        "!git remote add origin <https://github.com/iremcing9/Parkinson-sDiseaseDetect-onWithColab/import>  # GitHub repository URL'sini ekler\n",
        "!git push -u origin main  # Kodu GitHub'a yükler\n"
      ],
      "metadata": {
        "id": "dRnPxPyKxwWL",
        "colab": {
          "base_uri": "https://localhost:8080/"
        },
        "outputId": "a9f00ac4-6de0-4bd7-8abc-7eaac9fa18da"
      },
      "execution_count": null,
      "outputs": [
        {
          "output_type": "stream",
          "name": "stdout",
          "text": [
            "\u001b[33mhint: Using 'master' as the name for the initial branch. This default branch name\u001b[m\n",
            "\u001b[33mhint: is subject to change. To configure the initial branch name to use in all\u001b[m\n",
            "\u001b[33mhint: of your new repositories, which will suppress this warning, call:\u001b[m\n",
            "\u001b[33mhint: \u001b[m\n",
            "\u001b[33mhint: \tgit config --global init.defaultBranch <name>\u001b[m\n",
            "\u001b[33mhint: \u001b[m\n",
            "\u001b[33mhint: Names commonly chosen instead of 'master' are 'main', 'trunk' and\u001b[m\n",
            "\u001b[33mhint: 'development'. The just-created branch can be renamed via this command:\u001b[m\n",
            "\u001b[33mhint: \u001b[m\n",
            "\u001b[33mhint: \tgit branch -m <name>\u001b[m\n",
            "Initialized empty Git repository in /content/.git/\n",
            "Author identity unknown\n",
            "\n",
            "*** Please tell me who you are.\n",
            "\n",
            "Run\n",
            "\n",
            "  git config --global user.email \"you@example.com\"\n",
            "  git config --global user.name \"Your Name\"\n",
            "\n",
            "to set your account's default identity.\n",
            "Omit --global to set the identity only in this repository.\n",
            "\n",
            "fatal: unable to auto-detect email address (got 'root@12d741c81c2a.(none)')\n",
            "/bin/bash: -c: line 1: syntax error near unexpected token `newline'\n",
            "/bin/bash: -c: line 1: `git remote add origin <https://github.com/iremcing9/Parkinson-sDiseaseDetect-onWithColab/import>  # GitHub repository URL'sini ekler'\n",
            "error: src refspec main does not match any\n",
            "\u001b[31merror: failed to push some refs to 'origin'\n",
            "\u001b[m"
          ]
        }
      ]
    }
  ]
}